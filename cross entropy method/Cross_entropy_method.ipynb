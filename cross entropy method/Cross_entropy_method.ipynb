{
 "cells": [
  {
   "cell_type": "code",
   "execution_count": 143,
   "metadata": {},
   "outputs": [],
   "source": [
    "import gym\n",
    "import numpy as np\n",
    "import torch\n",
    "import torch.nn as nn\n",
    "from collections import namedtuple\n",
    "from tensorboardX import SummaryWriter\n",
    "import torch.optim as optim\n"
   ]
  },
  {
   "cell_type": "code",
   "execution_count": 144,
   "metadata": {},
   "outputs": [],
   "source": [
    "HIDDEN_SIZE = 128\n",
    "BATCH_SIZE = 16\n",
    "PERCENTILE = 70"
   ]
  },
  {
   "cell_type": "code",
   "execution_count": 145,
   "metadata": {},
   "outputs": [],
   "source": [
    "class Net(nn.Module):\n",
    "    def __init__(self, obs_size, hidden_size, n_actions):\n",
    "        super(Net, self).__init__()\n",
    "        self.net = nn.Sequential(\n",
    "                nn.Linear(obs_size, hidden_size),\n",
    "                nn.ReLU(),\n",
    "                nn.Linear(hidden_size, n_actions)\n",
    "        )\n",
    "    def forward(self, x):\n",
    "        return self.net(x)\n",
    "\n",
    "# Rather than\n",
    "# calculating softmax (which uses exponentiation) and then\n",
    "# calculating cross-entropy loss (which uses a logarithm of\n",
    "# probabilities), we can use the PyTorch class nn.CrossEntropyLoss ,\n",
    "# which combines both softmax and cross-entropy in a single, more\n",
    "# numerically stable expression.\n",
    "\n",
    "# The downside\n",
    "# of this is that we need to remember to apply softmax every time we\n",
    "# need to get probabilities from our NN's output."
   ]
  },
  {
   "cell_type": "code",
   "execution_count": 146,
   "metadata": {},
   "outputs": [],
   "source": [
    "# EpisodeStep : This will be used to represent one single step that\n",
    "# our agent made in the episode, and it stores the observation\n",
    "# from the environment and what action the agent completed. We\n",
    "# will use episode steps from \"elite\" episodes as training data.\n",
    "EpisodeStep = namedtuple('EpisodeStep', field_names=['observation','action'])\n",
    "\n",
    "# Episode : This is a single episode stored as total undiscounted\n",
    "# reward and a collection of EpisodeStep .\n",
    "Episode = namedtuple('Episode', field_names=['reward', 'steps'])"
   ]
  },
  {
   "cell_type": "code",
   "execution_count": 147,
   "metadata": {},
   "outputs": [],
   "source": [
    "def iterate_batches(env, net, batch_size):\n",
    "    batch = []\n",
    "    episode_reward = 0.0\n",
    "    episode_steps = []\n",
    "    obs=env.reset()[0]\n",
    "    sm = nn.Softmax()\n",
    "    i=0\n",
    "    while True:\n",
    "        \n",
    "#         env.render()\n",
    "        #print(obs, \"\\n\")\n",
    "        obs_v = torch.FloatTensor(obs) #convert our current observation to a PyTorch tensor\n",
    "        act_probs_v = sm(net(obs_v))  #get probabilities from our NN's output\n",
    "        act_probs = act_probs_v.data.numpy()\n",
    "        \n",
    "        #Now that we have the probability distribution of actions, we can use\n",
    "        #it to obtain the actual action for the current step\n",
    "        action = np.random.choice(len(act_probs), p = act_probs)  \n",
    "        next_obs, reward, is_done, _, _ = env.step(action)          #the env step output\n",
    "\n",
    "        episode_reward+=reward          #The reward is added to the current episode's total reward\n",
    "        episode_steps.append(EpisodeStep(observation = obs, action = action))\n",
    "        #we save the observation that was used to choose theaction, \n",
    "        # but not the observation returned by the environment\n",
    "\n",
    "        if is_done:\n",
    "            \n",
    "#             print(episode_reward)\n",
    "            \n",
    "            batch.append(Episode(reward = episode_reward, steps = episode_steps))\n",
    "            episode_reward = 0.0\n",
    "            episode_steps=[]\n",
    "            next_obs = env.reset()[0]\n",
    "            if len(batch)==batch_size:\n",
    "                yield batch\n",
    "                batch = []\n",
    "             \n",
    "        obs = next_obs\n"
   ]
  },
  {
   "attachments": {},
   "cell_type": "markdown",
   "metadata": {},
   "source": [
    "One very important fact to understand in this function logic is that\n",
    "the training of our NN and the generation of our episodes are\n",
    "performed at the same time."
   ]
  },
  {
   "cell_type": "code",
   "execution_count": 148,
   "metadata": {},
   "outputs": [],
   "source": [
    "# This function is at the core of the cross-entropy method—from the\n",
    "# given batch of episodes and percentile value, it calculates a\n",
    "# boundary reward, which is used to filter \"elite\" episodes to train on.\n",
    "def filter_batch(batch, percentile):\n",
    "    rewards = list(map(lambda s:s.reward, batch))\n",
    "    reward_bound = np.percentile(rewards, percentile)\n",
    "    reward_mean = float(np.mean(rewards))\n",
    "    train_obs = []\n",
    "    train_act = []\n",
    "    for reward,steps in batch:\n",
    "        if reward<reward_bound:\n",
    "            continue\n",
    "        # we will populate lists of observations and actions that we will train on\n",
    "        train_obs.extend(map(lambda step: step.observation, steps))\n",
    "        train_act.extend(map(lambda step: step.action, steps))\n",
    "    #we will convert our observations and actions from \"elite\" episodes into tensors,\n",
    "    train_obs_v = torch.FloatTensor(train_obs)\n",
    "    train_act_v = torch.LongTensor(train_act)\n",
    "    return train_obs_v, train_act_v, reward_bound, reward_mean\n"
   ]
  },
  {
   "cell_type": "code",
   "execution_count": 149,
   "metadata": {},
   "outputs": [
    {
     "name": "stderr",
     "output_type": "stream",
     "text": [
      "c:\\Users\\Administrateur\\AppData\\Local\\Programs\\Python\\Python38\\lib\\site-packages\\gym\\envs\\registration.py:555: UserWarning: \u001b[33mWARN: The environment CartPole-v0 is out of date. You should consider upgrading to version `v1`.\u001b[0m\n",
      "  logger.warn(\n"
     ]
    }
   ],
   "source": [
    "# main run\n",
    "# create the env \n",
    "env = gym.make(\"CartPole-v0\")\n",
    "obs_size = env.observation_space.shape[0]\n",
    "#print(obs_size)\n",
    "n_actions = env.action_space.n\n",
    "# define the model, the objective function to minimize & the optimizer\n",
    "net = Net(obs_size, HIDDEN_SIZE, n_actions)\n",
    "objective = nn.CrossEntropyLoss()\n",
    "optimizer = optim.Adam(params = net.parameters(), lr=0.01)\n",
    "writer = SummaryWriter"
   ]
  },
  {
   "cell_type": "code",
   "execution_count": 152,
   "metadata": {},
   "outputs": [],
   "source": [
    "def get_action(obs, net):\n",
    "    \n",
    "    obs_v = torch.FloatTensor(obs) #convert our current observation to a PyTorch tensor\n",
    "    act_probs_v = sm(net(obs_v))  #get probabilities from our NN's output\n",
    "    act_probs = act_probs_v.data.numpy()\n",
    "\n",
    "    action = np.random.choice(len(act_probs), p = act_probs)\n",
    "    return action"
   ]
  },
  {
   "cell_type": "code",
   "execution_count": 153,
   "metadata": {},
   "outputs": [],
   "source": [
    "def playing_with_agent(net_trained) :   \n",
    "    total_reward_a = []\n",
    "    total_steps = 0\n",
    "    # obs = env.reset()\n",
    "    sm = nn.Softmax(dim=1)\n",
    "\n",
    "    for i in range(BATCH_SIZE):\n",
    "        total_reward = 0.0\n",
    "        total_steps = 0\n",
    "        obs = env.reset()[0]\n",
    "        while True:\n",
    "            env.render()\n",
    "            action = get_action(obs, net_trained)\n",
    "    #         action = env.action_space.sample()\n",
    "            next_obs, rew, is_done, _,_ = env.step(action)\n",
    "            total_reward+=rew\n",
    "            total_steps+=1\n",
    "            if is_done:\n",
    "                #print(\"iter\",i,\" Total Reward = \",total_reward,\" Total Steps = \", total_steps)            \n",
    "                total_reward_a.append(total_reward)\n",
    "                break\n",
    "            obs=next_obs\n",
    "\n",
    "    #print('avg rew = ',sum(total_reward_a)/BATCH_SIZE)\n",
    "    env.close()\n",
    "    return sum(total_reward_a)/BATCH_SIZE"
   ]
  },
  {
   "cell_type": "code",
   "execution_count": 151,
   "metadata": {},
   "outputs": [
    {
     "name": "stderr",
     "output_type": "stream",
     "text": [
      "C:\\Users\\Administrateur\\AppData\\Local\\Temp\\ipykernel_21116\\2770266321.py:13: UserWarning: Implicit dimension choice for softmax has been deprecated. Change the call to include dim=X as an argument.\n",
      "  act_probs_v = sm(net(obs_v))  #get probabilities from our NN's output\n"
     ]
    },
    {
     "name": "stdout",
     "output_type": "stream",
     "text": [
      "0: loss=0.495, reward_mean=138.4, reward_bound=139.5\n"
     ]
    },
    {
     "name": "stderr",
     "output_type": "stream",
     "text": [
      "C:\\Users\\Administrateur\\AppData\\Local\\Temp\\ipykernel_21116\\1719624075.py:4: UserWarning: Implicit dimension choice for softmax has been deprecated. Change the call to include dim=X as an argument.\n",
      "  act_probs_v = sm(net(obs_v))  #get probabilities from our NN's output\n"
     ]
    },
    {
     "name": "stdout",
     "output_type": "stream",
     "text": [
      "1: loss=0.511, reward_mean=158.0, reward_bound=202.0\n",
      "2: loss=0.505, reward_mean=156.8, reward_bound=184.5\n",
      "3: loss=0.508, reward_mean=183.8, reward_bound=210.5\n",
      "4: loss=0.490, reward_mean=153.1, reward_bound=170.0\n",
      "5: loss=0.478, reward_mean=214.8, reward_bound=289.0\n",
      "6: loss=0.491, reward_mean=190.8, reward_bound=240.0\n",
      "7: loss=0.494, reward_mean=216.8, reward_bound=267.5\n",
      "8: loss=0.497, reward_mean=250.3, reward_bound=353.5\n",
      "9: loss=0.480, reward_mean=210.8, reward_bound=235.5\n",
      "10: loss=0.497, reward_mean=167.1, reward_bound=208.0\n",
      "11: loss=0.488, reward_mean=237.0, reward_bound=315.0\n",
      "12: loss=0.492, reward_mean=242.2, reward_bound=328.5\n",
      "13: loss=0.492, reward_mean=259.3, reward_bound=310.5\n",
      "14: loss=0.490, reward_mean=249.1, reward_bound=315.5\n",
      "15: loss=0.483, reward_mean=410.1, reward_bound=448.0\n",
      "16: loss=0.488, reward_mean=332.9, reward_bound=407.5\n",
      "17: loss=0.468, reward_mean=404.8, reward_bound=465.0\n",
      "18: loss=0.471, reward_mean=379.3, reward_bound=404.0\n",
      "19: loss=0.465, reward_mean=358.1, reward_bound=433.0\n",
      "20: loss=0.465, reward_mean=253.3, reward_bound=282.0\n",
      "21: loss=0.453, reward_mean=281.1, reward_bound=360.0\n",
      "22: loss=0.465, reward_mean=294.6, reward_bound=338.0\n",
      "23: loss=0.473, reward_mean=284.7, reward_bound=308.0\n",
      "24: loss=0.470, reward_mean=353.1, reward_bound=404.5\n",
      "25: loss=0.472, reward_mean=403.4, reward_bound=474.5\n",
      "26: loss=0.477, reward_mean=483.3, reward_bound=514.5\n",
      "27: loss=0.469, reward_mean=470.3, reward_bound=534.0\n",
      "28: loss=0.477, reward_mean=365.8, reward_bound=406.0\n",
      "29: loss=0.478, reward_mean=404.3, reward_bound=466.0\n",
      "30: loss=0.484, reward_mean=640.8, reward_bound=702.5\n"
     ]
    }
   ],
   "source": [
    "    #loop through\n",
    "#epochs=50    \n",
    "#for i in range(epochs) : \n",
    "i=0  \n",
    "R=[]\n",
    "for iter_no, batch in enumerate(iterate_batches(env, net, BATCH_SIZE)):\n",
    "        obs_v, act_v, reward_b, reward_m = filter_batch(batch, PERCENTILE)\n",
    "        optimizer.zero_grad()\n",
    "        action_scores_v = net(obs_v)\n",
    "        loss_v = objective(action_scores_v, act_v)\n",
    "        loss_v.backward()\n",
    "        optimizer.step()\n",
    "        print(\"%d: loss=%.3f, reward_mean=%.1f, reward_bound=%.1f\" % (iter_no, loss_v.item(), reward_m, reward_b))\n",
    "        # writer.add_scalar(\"loss\", loss_v.item(), iter_no)\n",
    "        # writer.add_scalar(\"reward_bound\", reward_b, iter_no)\n",
    "        # writer.add_scalar(\"reward_mean\", reward_m, iter_no)\n",
    "        avg_reward=playing_with_agent(net)\n",
    "        R.append(avg_reward)\n",
    "        i+=1\n",
    "        if i>30:\n",
    "            break\n",
    "\n",
    "        # if reward_m > 1000:\n",
    "        #     print(\"Solved!\")\n",
    "        #     break\n",
    "        #     writer.close()"
   ]
  },
  {
   "cell_type": "code",
   "execution_count": 154,
   "metadata": {},
   "outputs": [
    {
     "data": {
      "text/plain": [
       "[<matplotlib.lines.Line2D at 0x17fc2d79040>]"
      ]
     },
     "execution_count": 154,
     "metadata": {},
     "output_type": "execute_result"
    },
    {
     "data": {
      "image/png": "[encoded data removed]",
      "text/plain": [
       "<Figure size 640x480 with 1 Axes>"
      ]
     },
     "metadata": {},
     "output_type": "display_data"
    }
   ],
   "source": [
    "import matplotlib.pyplot as plt\n",
    "plt.plot([i for i in range(len(R))],R)"
   ]
  }
 ],
 "metadata": {
  "kernelspec": {
   "display_name": "Python 3",
   "language": "python",
   "name": "python3"
  },
  "language_info": {
   "codemirror_mode": {
    "name": "ipython",
    "version": 3
   },
   "file_extension": ".py",
   "mimetype": "text/x-python",
   "name": "python",
   "nbconvert_exporter": "python",
   "pygments_lexer": "ipython3",
   "version": "3.8.0"
  },
  "orig_nbformat": 4,
  "vscode": {
   "interpreter": {
    "hash": "a138b6ecd7bd97edef5ed73a611bbda83416f6746a361b8186edec2994543fd5"
   }
  }
 },
 "nbformat": 4,
 "nbformat_minor": 2
}
